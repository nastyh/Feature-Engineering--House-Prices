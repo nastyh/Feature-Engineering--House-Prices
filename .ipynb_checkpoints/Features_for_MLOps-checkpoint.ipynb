{
 "cells": [
  {
   "cell_type": "code",
   "execution_count": null,
   "metadata": {},
   "outputs": [],
   "source": [
    "# Loading necessary packages\n",
    "import pandas as pd\n",
    "import numpy as np\n",
    "import matplotlib.pyplot as plt\n",
    "import scipy.stats as st\n",
    "import seaborn as sns\n",
    "import pandas_profiling\n",
    "import requests # might need to be installed\n",
    "%matplotlib inline"
   ]
  },
  {
   "cell_type": "code",
   "execution_count": null,
   "metadata": {},
   "outputs": [],
   "source": [
    "train = pd.read_csv(r'train1.csv')\n",
    "test = pd.read_csv(r'test.csv')"
   ]
  },
  {
   "cell_type": "code",
   "execution_count": null,
   "metadata": {},
   "outputs": [],
   "source": [
    "# getting a data dictionary\n",
    "# response = requests.get('https://storage.googleapis.com/kaggle-competitions-data/kaggle/5407/205873/data_description.txt?GoogleAccessId=web-data@kaggle-161607.iam.gserviceaccount.com&Expires=1564407075&Signature=Iduf4UDvx2Cei5S9B7A%2B%2Fz3u%2Ff8GG0RxvpfMu5IHRtJOFBsjq806B2sSr6zucZBwJeBNSOuIpOssfa4i%2BYS8ybrJgaHnA%2Fqkcox6ZsD8BLIl3yTHjwmfkie2ohGSI0bdZLiXblBWps8xJ8sGZPnmTegLYLhFgrA7O0BEF5dIXrFVYufTcndkOeOyYm3fopGjTablaxWOUyhmd43WfOxADJInaMqUk37SBzVD4jD1bj%2F%2B%2FJkK7OeTvUIBJOR3EXij97rhVqcZNdxTttF91t0W3HFcqJrRhrw5%2BKvZmHNzsT5AO164QSjlFqT5kU3dZWoZqxdDOxImVvr%2Fw2m4IRZGCw%3D%3D')\n",
    "# dict = response.text\n"
   ]
  },
  {
   "cell_type": "code",
   "execution_count": null,
   "metadata": {},
   "outputs": [],
   "source": [
    "# print(dict)"
   ]
  },
  {
   "cell_type": "code",
   "execution_count": null,
   "metadata": {},
   "outputs": [],
   "source": [
    "# train.describe().T\n",
    "# test.describe().T"
   ]
  },
  {
   "cell_type": "code",
   "execution_count": null,
   "metadata": {},
   "outputs": [],
   "source": [
    "sns.distplot(train['SalePrice'])\n",
    "plt.axvline(train['SalePrice'].mean(), color=\"k\", linestyle=\"--\")"
   ]
  },
  {
   "cell_type": "code",
   "execution_count": null,
   "metadata": {},
   "outputs": [],
   "source": [
    "# pandas_profiling.ProfileReport(train)"
   ]
  },
  {
   "cell_type": "markdown",
   "metadata": {},
   "source": [
    "### Dealing with missing values in obvious features"
   ]
  },
  {
   "cell_type": "code",
   "execution_count": 3,
   "metadata": {},
   "outputs": [],
   "source": [
    "# Type of alley access to property\n",
    "# print(train['Alley']).column_name()\n",
    "# for c in train.columns:\n",
    "#     print(train[c].value_counts())\n",
    "#     print(\"Number of NaNs in the column {} is {}\".format(c, train[c].isna().sum()))\n",
    "\n",
    "train['LotFrontage'].fillna(train['LotFrontage'].mean(), inplace = True)\n",
    "train['Alley'].fillna('NA', inplace = True)\n",
    "train['FireplaceQu'].fillna('NA', inplace = True)\n",
    "train['GarageQual'].fillna('NA', inplace = True)\n",
    "train['GarageFinish'].fillna('NA', inplace = True)\n",
    "train['GarageCond'].fillna('NA', inplace = True)\n",
    "train['GarageYrBlt'].fillna(train['GarageYrBlt'].mean(), inplace = True)\n",
    "train['GarageType'].fillna('NA', inplace = True)\n",
    "train['PoolQC'].fillna('NA', inplace = True)\n",
    "train['Fence'].fillna('NA', inplace = True)\n",
    "train['MiscFeature'].fillna('NA', inplace = True)\n",
    "train['MasVnrType'].fillna('None', inplace = True)\n",
    "train['MasVnrArea'].fillna(train['MasVnrArea'].mean(), inplace = True)\n",
    "train['BsmtQual'].fillna('NA', inplace = True)\n",
    "train['BsmtCond'].fillna('NA', inplace = True)\n",
    "train['BsmtExposure'].fillna('NA', inplace = True)\n",
    "train['BsmtFinType1'].fillna('NA', inplace = True)\n",
    "train['BsmtFinType2'].fillna('NA', inplace = True)\n",
    "train['Electrical'].fillna('SBrkr', inplace = True) # substituting with the majority class\n",
    "\n",
    "# and for the test set\n",
    "\n",
    "test['LotFrontage'].fillna(train['LotFrontage'].mean(), inplace = True)\n",
    "test['Alley'].fillna('NA', inplace = True)\n",
    "test['FireplaceQu'].fillna('NA', inplace = True)\n",
    "test['GarageQual'].fillna('NA', inplace = True)\n",
    "test['GarageFinish'].fillna('NA', inplace = True)\n",
    "test['GarageCond'].fillna('NA', inplace = True)\n",
    "test['GarageYrBlt'].fillna(train['GarageYrBlt'].mean(), inplace = True)\n",
    "test['GarageType'].fillna('NA', inplace = True)\n",
    "test['PoolQC'].fillna('NA', inplace = True)\n",
    "test['Fence'].fillna('NA', inplace = True)\n",
    "test['MiscFeature'].fillna('NA', inplace = True)\n",
    "test['MasVnrType'].fillna('None', inplace = True)\n",
    "test['MasVnrArea'].fillna(train['MasVnrArea'].mean(), inplace = True)\n",
    "test['BsmtQual'].fillna('NA', inplace = True)\n",
    "test['BsmtCond'].fillna('NA', inplace = True)\n",
    "test['BsmtExposure'].fillna('NA', inplace = True)\n",
    "test['BsmtFinType1'].fillna('NA', inplace = True)\n",
    "test['BsmtFinType2'].fillna('NA', inplace = True)\n",
    "test['Electrical'].fillna('SBrkr', inplace = True) # substituting with the majority class"
   ]
  },
  {
   "cell_type": "code",
   "execution_count": 16,
   "metadata": {},
   "outputs": [
    {
     "data": {
      "text/plain": [
       "[]"
      ]
     },
     "execution_count": 16,
     "metadata": {},
     "output_type": "execute_result"
    }
   ],
   "source": [
    "# Let's look a column name, and a number of NaNs\n",
    "# train.isna().sum()\n",
    "#or \n",
    "train.columns[train.isna().any()].tolist()"
   ]
  },
  {
   "cell_type": "markdown",
   "metadata": {},
   "source": [
    "### Feature engineering part"
   ]
  },
  {
   "cell_type": "markdown",
   "metadata": {},
   "source": [
    "#### Categorical are categorical; numeric are numeric"
   ]
  },
  {
   "cell_type": "code",
   "execution_count": 29,
   "metadata": {},
   "outputs": [],
   "source": [
    "train['Id'] = train['Id'].astype('category') \n",
    "train['MSSubClass'] = train['MSSubClass'].astype('category')\n",
    "# train['YearBuilt'] = train['YearBuilt'].astype('category')\n",
    "# train['YrSold'] = train['YrSold'].astype('category')\n",
    "# train['YearRemodAdd'] = train['YearRemodAdd'].astype('category')\n",
    "train['MoSold'] = train['MoSold'].astype('category')\n",
    "train['GarageYrBlt'] = train['GarageYrBlt'].astype('category')\n",
    "train['Fence'] = train['Fence'].astype('category')\n",
    "train['MiscFeature'] = train['MiscFeature'].astype('category')\n",
    "train['MiscVal'] = train['MiscVal'].astype('category')"
   ]
  },
  {
   "cell_type": "code",
   "execution_count": null,
   "metadata": {},
   "outputs": [],
   "source": [
    "[col for col in train.columns.tolist() if train[col].dtype not in ['object']] "
   ]
  },
  {
   "cell_type": "markdown",
   "metadata": {},
   "source": [
    "#### Need to check cardinality in train and test sets and look at the outlies in columns to which it applies"
   ]
  },
  {
   "cell_type": "code",
   "execution_count": null,
   "metadata": {},
   "outputs": [],
   "source": [
    "for col in train.columns:\n",
    "    if train[col].dtype == \"object\":\n",
    "        print(\"For column {} cardinality in Train minus cardinality in Test equals: {}\".format(col, train[col].nunique()-test[col].nunique()))\n",
    "# cardinality of train is always higher than that of test        "
   ]
  },
  {
   "cell_type": "markdown",
   "metadata": {},
   "source": [
    "#### Exploring columns where cardinality in train and test sets isn't the same"
   ]
  },
  {
   "cell_type": "code",
   "execution_count": 6,
   "metadata": {},
   "outputs": [],
   "source": [
    "# combining into one dataset in order to more conveniently compare unique values in these columns:\n",
    "train_1 = train.copy()\n",
    "train_1.drop(labels = 'SalePrice', axis = 1, inplace = True)\n",
    "train_1['Status'] = 'Train Set' # adding a column Status to differentiate between Train and Test in the combined set\n",
    "test_1 = test.copy()\n",
    "test_1['Status'] = 'Test Set'\n",
    "combo = train_1.copy()\n",
    "combo = combo.append(test_1)"
   ]
  },
  {
   "cell_type": "code",
   "execution_count": 14,
   "metadata": {},
   "outputs": [
    {
     "data": {
      "image/png": "[encoded data removed]",
      "text/plain": [
       "<Figure size 440.859x360 with 1 Axes>"
      ]
     },
     "metadata": {
      "needs_background": "light"
     },
     "output_type": "display_data"
    },
    {
     "data": {
      "image/png": "[encoded data removed]",
      "text/plain": [
       "<Figure size 440.859x360 with 1 Axes>"
      ]
     },
     "metadata": {
      "needs_background": "light"
     },
     "output_type": "display_data"
    },
    {
     "data": {
      "image/png": "[encoded data removed]",
      "text/plain": [
       "<Figure size 440.859x360 with 1 Axes>"
      ]
     },
     "metadata": {
      "needs_background": "light"
     },
     "output_type": "display_data"
    },
    {
     "data": {
      "image/png": "[encoded data removed]",
      "text/plain": [
       "<Figure size 440.859x360 with 1 Axes>"
      ]
     },
     "metadata": {
      "needs_background": "light"
     },
     "output_type": "display_data"
    },
    {
     "data": {
      "image/png": "[encoded data removed]",
      "text/plain": [
       "<Figure size 440.859x360 with 1 Axes>"
      ]
     },
     "metadata": {
      "needs_background": "light"
     },
     "output_type": "display_data"
    },
    {
     "data": {
      "image/png": "[encoded data removed]",
      "text/plain": [
       "<Figure size 440.859x360 with 1 Axes>"
      ]
     },
     "metadata": {
      "needs_background": "light"
     },
     "output_type": "display_data"
    },
    {
     "data": {
      "image/png": "[encoded data removed]",
      "text/plain": [
       "<Figure size 440.859x360 with 1 Axes>"
      ]
     },
     "metadata": {
      "needs_background": "light"
     },
     "output_type": "display_data"
    },
    {
     "data": {
      "image/png": "[encoded data removed]",
      "text/plain": [
       "<Figure size 440.859x360 with 1 Axes>"
      ]
     },
     "metadata": {
      "needs_background": "light"
     },
     "output_type": "display_data"
    },
    {
     "data": {
      "image/png": "[encoded data removed]",
      "text/plain": [
       "<Figure size 440.859x360 with 1 Axes>"
      ]
     },
     "metadata": {
      "needs_background": "light"
     },
     "output_type": "display_data"
    }
   ],
   "source": [
    "# Gathering columns for which cardinality isn't the same into a list in order to make charts\n",
    "cols_list = []\n",
    "for col in train.columns:\n",
    "     if train[col].dtype == \"object\" and (train[col].nunique()-test[col].nunique()) != 0:\n",
    "        cols_list.append(col)\n",
    "        \n",
    "# cols_list1 = [cols_list1.append(train.col) for col in train.columns \n",
    "#               if (train[col].nunique()-test[col].nunique()) != 0]\n",
    "\n",
    "# looking at values in these columns\n",
    "for l in cols_list:\n",
    "    sns.catplot(x=l, hue='Status', kind='count', data=combo)\n",
    "    plt.xticks(rotation=45)"
   ]
  },
  {
   "cell_type": "code",
   "execution_count": null,
   "metadata": {},
   "outputs": [],
   "source": [
    "# Scatterplots: numeric columns vs. SalePrice in the train set \n",
    "# numeric columns\n",
    "digit_cols = list(train.select_dtypes(include=[np.number]).columns.values)\n",
    "digit_cols = digit_cols[2:] # don't need the first two columns\n",
    "# scatter plots: digit_cols vs. SalePrice\n",
    "\n",
    "for cols in digit_cols:\n",
    "    plt.figure()\n",
    "    sns.scatterplot(x = cols, y = 'SalePrice', data = train)\n",
    "    \n",
    "# LotFrontage, YearBuilt, TotalBsmtSF, 1stFlrSF, GarageArea seem to have linear relationships"
   ]
  },
  {
   "cell_type": "code",
   "execution_count": 43,
   "metadata": {},
   "outputs": [],
   "source": [
    "# turning object columns into category columns\n",
    "for i in train.select_dtypes(include='object').columns.to_list():\n",
    "    train[i] = train[i].astype('category')"
   ]
  },
  {
   "cell_type": "code",
   "execution_count": 33,
   "metadata": {},
   "outputs": [],
   "source": [
    "# list w/ categorical variables\n",
    "cater_cols = list(train.select_dtypes(exclude=[np.number]).columns.values)"
   ]
  },
  {
   "cell_type": "code",
   "execution_count": 38,
   "metadata": {},
   "outputs": [
    {
     "data": {
      "text/plain": [
       "['MSZoning',\n",
       " 'Street',\n",
       " 'Alley',\n",
       " 'LotShape',\n",
       " 'LandContour',\n",
       " 'Utilities',\n",
       " 'LotConfig',\n",
       " 'LandSlope',\n",
       " 'Neighborhood',\n",
       " 'Condition1',\n",
       " 'Condition2',\n",
       " 'BldgType',\n",
       " 'HouseStyle',\n",
       " 'RoofStyle',\n",
       " 'RoofMatl',\n",
       " 'Exterior1st',\n",
       " 'Exterior2nd',\n",
       " 'MasVnrType',\n",
       " 'ExterQual',\n",
       " 'ExterCond',\n",
       " 'Foundation',\n",
       " 'BsmtQual',\n",
       " 'BsmtCond',\n",
       " 'BsmtExposure',\n",
       " 'BsmtFinType1',\n",
       " 'BsmtFinType2',\n",
       " 'Heating',\n",
       " 'HeatingQC',\n",
       " 'CentralAir',\n",
       " 'Electrical',\n",
       " 'KitchenQual',\n",
       " 'Functional',\n",
       " 'FireplaceQu',\n",
       " 'GarageType',\n",
       " 'GarageFinish',\n",
       " 'GarageQual',\n",
       " 'GarageCond',\n",
       " 'PavedDrive',\n",
       " 'PoolQC',\n",
       " 'SaleType',\n",
       " 'SaleCondition']"
      ]
     },
     "execution_count": 38,
     "metadata": {},
     "output_type": "execute_result"
    }
   ],
   "source": [
    "[col for col in train.columns.tolist() if train[col].dtype in ['object']] "
   ]
  },
  {
   "cell_type": "code",
   "execution_count": null,
   "metadata": {},
   "outputs": [],
   "source": [
    "# categorical variables vs. SalePrice\n",
    "for cols in cater_cols:\n",
    "    plt.figure()\n",
    "    sns.boxplot(x = cols, y = 'SalePrice', data = train)"
   ]
  },
  {
   "cell_type": "code",
   "execution_count": null,
   "metadata": {},
   "outputs": [],
   "source": [
    "sns.boxplot(x = 'MSSubClass', y = 'SalePrice', data = train)\n",
    "# outliers: 60 2-STORY 1946 & NEWER; 20 1-STORY 1946 & NEWER ALL STYLES"
   ]
  },
  {
   "cell_type": "code",
   "execution_count": null,
   "metadata": {},
   "outputs": [],
   "source": [
    "# Going back to columns with different cardinality cols_list\n",
    "for cols in cols_list:\n",
    "    plt.figure()\n",
    "    sns.boxplot(x = cols, y = 'SalePrice', data = train)"
   ]
  },
  {
   "cell_type": "code",
   "execution_count": null,
   "metadata": {},
   "outputs": [],
   "source": [
    "#unloading charts from the memory because there are too many\n",
    "plt.clf()\n",
    "plt.close()"
   ]
  },
  {
   "cell_type": "code",
   "execution_count": null,
   "metadata": {},
   "outputs": [],
   "source": [
    "corrmat = train.corr()\n",
    "k = 10 #number of variables for heatmap\n",
    "cols = corrmat.nlargest(k, 'SalePrice')['SalePrice'].index\n",
    "cm = np.corrcoef(train[cols].values.T)\n",
    "sns.set(font_scale=1.25)\n",
    "hm = sns.heatmap(cm, cbar=True, annot=True, square=True, fmt='.2f', annot_kws={'size': 10}, yticklabels=cols.values, xticklabels=cols.values)\n",
    "plt.show()\n",
    "\n",
    "# GrLivArea: Above grade (ground) living area square feet -- the strongest\n",
    "#GarageCars and GarageArea is probably the same. Keeping only GarageCars because it's stronger\n",
    "#TotalBsmtSF and 1stFlrSF are similar, keeping only TotalBsmntSF"
   ]
  },
  {
   "cell_type": "code",
   "execution_count": null,
   "metadata": {},
   "outputs": [],
   "source": [
    "# Looking at these variables again\n",
    "sns.distplot(train['GrLivArea'])\n",
    "plt.axvline(train['GrLivArea'].mean(), color=\"k\", linestyle=\"--\")\n",
    "plt.figure()\n",
    "sns.distplot(train['TotalBsmtSF'])\n",
    "plt.axvline(train['TotalBsmtSF'].mean(), color=\"k\", linestyle=\"--\")\n",
    "\n",
    "#will need log transformation probably or some other normalization"
   ]
  },
  {
   "cell_type": "code",
   "execution_count": null,
   "metadata": {},
   "outputs": [],
   "source": [
    "plt.clf()\n",
    "plt.close()"
   ]
  },
  {
   "cell_type": "code",
   "execution_count": null,
   "metadata": {},
   "outputs": [],
   "source": [
    "# Engineering around the house age\n",
    "#YearBuilt: Original construction date\n",
    "#YearRemodAdd: Remodel date (same as construction date if no remodeling or additions)\n",
    "# Will add a new column: Remodeled Y/N. If YearRemodAdd = YearBuilt, then no, otherwise yes \n",
    "# Will add a new column: Age when sold. YrSold - YearRemodAdd \n",
    "combo['Remodeled Y/N'] = np.where(combo['YearRemodAdd'] ==combo['YearBuilt'], 'No', 'Yes')\n",
    "combo['Age when Sold'] = combo['YrSold'] - combo['YearRemodAdd']"
   ]
  },
  {
   "cell_type": "code",
   "execution_count": null,
   "metadata": {},
   "outputs": [],
   "source": [
    "#and for the train set\n",
    "train['Remodeled Y/N'] = np.where(train['YearRemodAdd'] ==train['YearBuilt'], 'No', 'Yes')\n",
    "train['Age when Sold'] = train['YrSold'] - train['YearRemodAdd']"
   ]
  },
  {
   "cell_type": "code",
   "execution_count": null,
   "metadata": {},
   "outputs": [],
   "source": [
    "sns.boxplot(x ='Remodeled Y/N' , y = 'SalePrice', data = train)\n",
    "plt.figure()\n",
    "sns.scatterplot(x = 'Age when Sold', y = 'SalePrice', data = train)\n",
    "# nothing crazy"
   ]
  },
  {
   "cell_type": "code",
   "execution_count": null,
   "metadata": {},
   "outputs": [],
   "source": [
    "#adding a new column totSqFt\n",
    "#TotalBsmtSF + GrLivArea\n",
    "train['totSqFt'] = train['TotalBsmtSF'] + train['GrLivArea']\n",
    "combo['totSqFt'] = combo['TotalBsmtSF'] + combo['GrLivArea']"
   ]
  },
  {
   "cell_type": "code",
   "execution_count": null,
   "metadata": {},
   "outputs": [],
   "source": [
    "sns.scatterplot(x = 'totSqFt', y = 'SalePrice', data = train)\n",
    "# a bit better than when they're one by one as below"
   ]
  },
  {
   "cell_type": "code",
   "execution_count": null,
   "metadata": {},
   "outputs": [],
   "source": [
    "# one by one\n",
    "sns.scatterplot(x = 'TotalBsmtSF', y = 'SalePrice', data = train)\n",
    "plt.figure()\n",
    "sns.scatterplot(x = 'GrLivArea', y = 'SalePrice', data = train)"
   ]
  },
  {
   "cell_type": "code",
   "execution_count": null,
   "metadata": {},
   "outputs": [],
   "source": [
    "# Building normality plots\n",
    "from statsmodels.graphics.gofplots import qqplot\n",
    "from matplotlib import pyplot"
   ]
  },
  {
   "cell_type": "code",
   "execution_count": null,
   "metadata": {},
   "outputs": [],
   "source": [
    "qqplot(train['SalePrice'], line='s')\n",
    "pyplot.show()\n",
    "# might be good to remove houses > 600K. Maybe do it later"
   ]
  },
  {
   "cell_type": "code",
   "execution_count": null,
   "metadata": {},
   "outputs": [],
   "source": [
    "qqplot(train['totSqFt'], line='s')\n",
    "pyplot.show()"
   ]
  },
  {
   "cell_type": "code",
   "execution_count": null,
   "metadata": {},
   "outputs": [],
   "source": [
    "# Remove correlated variables\n",
    "# Remove houses that are very cheap and very expensive"
   ]
  },
  {
   "cell_type": "code",
   "execution_count": null,
   "metadata": {},
   "outputs": [],
   "source": [
    "# checking outliers\n",
    "# train[train['totSqFt']>10000]\n",
    "# train[train['SalePrice']>700000]\n",
    "# Seems that removing a house with totSqFt > 10000 is a good idea\n",
    "train.drop(train[train.totSqFt>10000].index, inplace = True)"
   ]
  },
  {
   "cell_type": "code",
   "execution_count": null,
   "metadata": {},
   "outputs": [],
   "source": [
    "# correlated variables to remove: GarageArea, 1stFlrSF, totRmsAbvGrd\n",
    "train_clean = train.copy()\n",
    "train_clean.drop(['GarageArea','1stFlrSF','TotRmsAbvGrd'], axis = 1, inplace = True) \n",
    "# now it's a new train dataset without the correlated features"
   ]
  },
  {
   "cell_type": "code",
   "execution_count": null,
   "metadata": {},
   "outputs": [],
   "source": [
    "# train['SalePrice'].describe()\n",
    "plt.hist(train['SalePrice'],bins = 20, log=True) \n",
    "plt.figure()\n",
    "plt.hist(train['SalePrice'], bins = 15) "
   ]
  },
  {
   "cell_type": "markdown",
   "metadata": {},
   "source": [
    "### Encoding categorical features using dummy variables"
   ]
  },
  {
   "cell_type": "code",
   "execution_count": null,
   "metadata": {},
   "outputs": [],
   "source": [
    "from sklearn.preprocessing import LabelEncoder\n",
    "from sklearn.preprocessing import OneHotEncoder\n",
    "from sklearn.model_selection import train_test_split"
   ]
  },
  {
   "cell_type": "code",
   "execution_count": null,
   "metadata": {},
   "outputs": [],
   "source": [
    "features = train.drop(['Id','SalePrice'], axis = 1)\n",
    "result = train['SalePrice']"
   ]
  },
  {
   "cell_type": "code",
   "execution_count": null,
   "metadata": {},
   "outputs": [],
   "source": [
    "X_train, X_test, y_train, y_test = train_test_split(features, result, test_size = 0.2, random_state = 12)"
   ]
  },
  {
   "cell_type": "code",
   "execution_count": null,
   "metadata": {},
   "outputs": [],
   "source": [
    "le = LabelEncoder()\n",
    "ohe = OneHotEncoder(handle_unknown='ignore')"
   ]
  },
  {
   "cell_type": "code",
   "execution_count": null,
   "metadata": {},
   "outputs": [],
   "source": [
    "ohe.fit(X_train.select_dtypes(include=['object']))  "
   ]
  },
  {
   "cell_type": "code",
   "execution_count": null,
   "metadata": {},
   "outputs": [],
   "source": [
    "X_train_ohe = ohe.transform(X_train.select_dtypes(include=['object']))\n",
    "X_test_ohe = ohe.transform(X_test.select_dtypes(include=['object']))"
   ]
  },
  {
   "cell_type": "markdown",
   "metadata": {},
   "source": [
    "# Machine Learning part"
   ]
  },
  {
   "cell_type": "markdown",
   "metadata": {},
   "source": [
    "### Base case with a random forest"
   ]
  },
  {
   "cell_type": "code",
   "execution_count": null,
   "metadata": {},
   "outputs": [],
   "source": [
    "from sklearn.metrics import classification_report\n",
    "from sklearn.metrics import confusion_matrix\n",
    "from sklearn.metrics import accuracy_score\n",
    "from sklearn.metrics import roc_auc_score\n",
    "from sklearn.ensemble import RandomForestClassifier"
   ]
  },
  {
   "cell_type": "code",
   "execution_count": null,
   "metadata": {},
   "outputs": [],
   "source": [
    "rf = RandomForestClassifier()\n",
    "rf.fit(X_train_ohe, y_train)"
   ]
  },
  {
   "cell_type": "code",
   "execution_count": null,
   "metadata": {},
   "outputs": [],
   "source": [
    "#Making prediction on unseen data\n",
    "predictions_rf = rf.predict(X_test_ohe)"
   ]
  },
  {
   "cell_type": "code",
   "execution_count": null,
   "metadata": {},
   "outputs": [],
   "source": [
    "accuracy_score(y_test, predictions_rf)"
   ]
  },
  {
   "cell_type": "markdown",
   "metadata": {},
   "source": [
    "### Regression and lasso"
   ]
  },
  {
   "cell_type": "code",
   "execution_count": null,
   "metadata": {},
   "outputs": [],
   "source": [
    "# Regression\n",
    "from sklearn.linear_model import LinearRegression\n",
    "lr = LinearRegression()"
   ]
  },
  {
   "cell_type": "code",
   "execution_count": null,
   "metadata": {},
   "outputs": [],
   "source": [
    "lr.fit(X_train_ohe, y_train)"
   ]
  },
  {
   "cell_type": "code",
   "execution_count": null,
   "metadata": {},
   "outputs": [],
   "source": [
    "predictions_lr = lr.predict(X_test_ohe)"
   ]
  },
  {
   "cell_type": "code",
   "execution_count": null,
   "metadata": {},
   "outputs": [],
   "source": [
    "from sklearn.metrics import r2_score\n",
    "from sklearn.metrics import explained_variance_score"
   ]
  },
  {
   "cell_type": "code",
   "execution_count": null,
   "metadata": {},
   "outputs": [],
   "source": [
    "print(\"Explained variance is {}\\nR-squared is {}\".format(explained_variance_score(y_test, predictions_lr),\n",
    "     r2_score(y_test, predictions_lr)))\n"
   ]
  },
  {
   "cell_type": "code",
   "execution_count": null,
   "metadata": {},
   "outputs": [],
   "source": [
    "fig, ax = plt.subplots(figsize=(16, 10))\n",
    "ax.scatter(y_test, predictions_lr)\n",
    "ax.plot([y_test.min(), y_test.max()], [y_test.min(), y_test.max()], 'k--', lw=3)\n",
    "ax.set_xlabel('Measured')\n",
    "ax.set_ylabel('Predicted')\n",
    "plt.show()"
   ]
  },
  {
   "cell_type": "code",
   "execution_count": null,
   "metadata": {},
   "outputs": [],
   "source": [
    "from sklearn.metrics import mean_squared_error"
   ]
  },
  {
   "cell_type": "code",
   "execution_count": null,
   "metadata": {},
   "outputs": [],
   "source": [
    "print(\"For the test set, the mean squared error is {}, and R2 is {:.2%}\".format(np.sqrt(mean_squared_error(y_test,predictions_lr)),\n",
    "                                                                           r2_score(y_test, predictions_lr)))\n",
    "print(\"For the train set, the mean squared error is {}, and R2 is {:.2%}\".format(np.sqrt(mean_squared_error(y_train,pred_test_lr)),\n",
    "                                                                            r2_score(y_train, pred_test_lr)))\n"
   ]
  },
  {
   "cell_type": "code",
   "execution_count": null,
   "metadata": {},
   "outputs": [],
   "source": [
    "from sklearn.linear_model import Lasso"
   ]
  },
  {
   "cell_type": "code",
   "execution_count": null,
   "metadata": {},
   "outputs": [],
   "source": [
    "model_lasso = Lasso(alpha=0.01)\n",
    "model_lasso.fit(X_train_ohe, y_train)"
   ]
  },
  {
   "cell_type": "code",
   "execution_count": null,
   "metadata": {},
   "outputs": [],
   "source": [
    "pred_train_lasso= model_lasso.predict(X_train_ohe)\n",
    "pred_test_lasso= model_lasso.predict(X_test_ohe)\n",
    "print(\"After lasso, for the test set, the mean squared error is {:2}, and R2 is {:.2%}\".format(\n",
    "     np.sqrt(mean_squared_error(y_test,pred_test_lasso)), r2_score(y_test, pred_test_lasso)))\n",
    "print(\"After lasso, for the train set, the mean squared error is {:2}, and R2 is {:.2%}\".format(\n",
    "     np.sqrt(mean_squared_error(y_train,pred_train_lasso)), r2_score(y_train, pred_train_lasso)))"
   ]
  },
  {
   "cell_type": "code",
   "execution_count": null,
   "metadata": {},
   "outputs": [],
   "source": [
    "# GridSearch for lasso parameters"
   ]
  },
  {
   "cell_type": "code",
   "execution_count": null,
   "metadata": {},
   "outputs": [],
   "source": [
    "# cross-validation\n",
    "# lasso and another cross-validation. GridSearch for lasso and another cross-validation"
   ]
  },
  {
   "cell_type": "code",
   "execution_count": null,
   "metadata": {},
   "outputs": [],
   "source": [
    "from sklearn.model_selection import cross_validate"
   ]
  },
  {
   "cell_type": "code",
   "execution_count": null,
   "metadata": {},
   "outputs": [],
   "source": [
    "sc = cross_validate(lr, X_train_ohe, y_train, scoring='r2', cv=3, return_train_score = True)   \n",
    "print(\"R2 Scores are {}\\nIts mean is {}\".format(sc['test_score'],sc['test_score'].mean()))"
   ]
  },
  {
   "cell_type": "code",
   "execution_count": null,
   "metadata": {},
   "outputs": [],
   "source": [
    "sc = cross_validate(lr, X_train_ohe, y_train, scoring='explained_variance', cv=3, return_train_score = True)   \n",
    "print(sc['test_score'].mean())"
   ]
  },
  {
   "cell_type": "code",
   "execution_count": null,
   "metadata": {},
   "outputs": [],
   "source": [
    "sc = cross_validate(lr, X_train_ohe, y_train, scoring='max_error', cv=3, return_train_score = True)   \n",
    "print(sc['test_score'].mean())"
   ]
  }
 ],
 "metadata": {
  "kernelspec": {
   "display_name": "Python 3",
   "language": "python",
   "name": "python3"
  },
  "language_info": {
   "codemirror_mode": {
    "name": "ipython",
    "version": 3
   },
   "file_extension": ".py",
   "mimetype": "text/x-python",
   "name": "python",
   "nbconvert_exporter": "python",
   "pygments_lexer": "ipython3",
   "version": "3.7.1"
  }
 },
 "nbformat": 4,
 "nbformat_minor": 2
}
